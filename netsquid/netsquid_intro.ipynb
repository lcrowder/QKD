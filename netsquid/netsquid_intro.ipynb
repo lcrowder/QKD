{
 "cells": [
  {
   "cell_type": "code",
   "execution_count": 1,
   "id": "44d2282f",
   "metadata": {
    "scrolled": true
   },
   "outputs": [
    {
     "data": {
      "text/plain": [
       "('qubitIO', 'qubitIO')"
      ]
     },
     "execution_count": 1,
     "metadata": {},
     "output_type": "execute_result"
    }
   ],
   "source": [
    "\"Basic Quantum Network Example: components, nodes, and connections\"\n",
    "#####################################################################\n",
    "import netsquid as ns\n",
    "\n",
    "node_alice=ns.nodes.Node(name='Alice')\n",
    "node_bob=ns.nodes.Node(name='Bob')\n",
    "#create Alice and Bob nodes\n",
    "\n",
    "#Now we create a 'delay model' of our channel using the avg speed (0.75c) at which information travels through the channel, plus standard dev. (0.05c)\n",
    "class alice_bob_delay_model(ns.components.models.DelayModel):\n",
    "    def __init__(self, speed_of_light_fraction=0.75, standard_deviation=0.05):\n",
    "        super().__init__() \n",
    "        #I think this just ensures that my_delay_model inherits characteristics from netsquid's DelayModel class\n",
    "        self.properties[\"speed\"]=speed_of_light_fraction *3e5 #in km/s\n",
    "        self.properties[\"std\"]=standard_deviation\n",
    "        self.required_properties=['length'] #in km\n",
    "    def generate_delay(self,**kwargs):\n",
    "        avg_speed=self.properties[\"speed\"]\n",
    "        std=self.properties[\"std\"]\n",
    "        #Below is directly from the netsquid docs: 'rng' is a property containing random number gen.\n",
    "        #We use this to randomly select a speed from a normal distribution\n",
    "        speed=self.properties[\"rng\"].normal(avg_speed,avg_speed*std)\n",
    "        delay=1e9*kwargs['length'] /speed #delay is in nanoseconds, hence the 1e9\n",
    "        return delay\n",
    "\n",
    "#Now create our quantum channel: \n",
    "\n",
    "distance=2.74/1000 #We need to set the length of the channel (2.74 m) in km\n",
    "my_delay_model=alice_bob_delay_model() #establish the current delay model to use in the alice/bob channel\n",
    "\n",
    "channel_1=ns.components.QuantumChannel(name='qchannel[alice to bob]',\n",
    "                                      length=distance,\n",
    "                                      models={\"delay_model\":my_delay_model})\n",
    "channel_2=ns.components.QuantumChannel(name='qchannel[bob to alice]',\n",
    "                                      length=distance,\n",
    "                                      models={\"delay_model\":my_delay_model})\n",
    "#Channel 1: Alice to Bob\n",
    "#Channel 2: Bob to Alice\n",
    "\n",
    "#Now we create a 'connection' to wrap the channels into a component which connects alice and bob's nodes\n",
    "connection=ns.nodes.DirectConnection(name='conn[alice|bob]',\n",
    "                                    channel_AtoB=channel_1,\n",
    "                                    channel_BtoA=channel_2)\n",
    "#connect the nodes:\n",
    "node_alice.connect_to(remote_node=node_bob, \n",
    "                      connection=connection, \n",
    "                      local_port_name='qubitIO',\n",
    "                      remote_port_name='qubitIO')\n",
    "\n"
   ]
  },
  {
   "cell_type": "code",
   "execution_count": 2,
   "id": "20eec21d",
   "metadata": {},
   "outputs": [
    {
     "name": "stdout",
     "output_type": "stream",
     "text": [
      " 11.0: Bob measured |+> with probability 0.50\n",
      " 23.5: Alice measured |1> with probability 0.50\n",
      " 35.1: Bob measured |+> with probability 0.50\n",
      " 47.2: Alice measured |0> with probability 0.50\n",
      " 59.8: Bob measured |+> with probability 0.50\n",
      " 72.0: Alice measured |1> with probability 0.50\n",
      " 85.3: Bob measured |+> with probability 0.50\n",
      " 97.9: Alice measured |1> with probability 0.50\n",
      "\n",
      "Simulation summary\n",
      "==================\n",
      "\n",
      "Elapsed wallclock time: 0:00:00.311566\n",
      "Elapsed simulation time: 1.00e+02 [ns]\n",
      "Triggered events: 16\n",
      "Handled callbacks: 16\n",
      "Total quantum operations: 8\n",
      "Frequent quantum operations: MEASURE = 8\n",
      "Max qstate size: 1 qubits\n",
      "Mean qstate size: 1.00 qubits\n",
      "\n"
     ]
    }
   ],
   "source": [
    "\"Protocols: Bob waits for Alice to send a qubit. Upon recieving a qubit, Bob measures it in some basis and then sends it back.\"\n",
    "#NOTE: for this cell to run properly, clear all variables before re-running\n",
    "\n",
    "class alice_bob_protocol(ns.protocols.NodeProtocol):\n",
    "    def __init__(self, node, observable, qubit=None):\n",
    "        super().__init__(node)\n",
    "        self.observable=observable\n",
    "        self.qubit=qubit\n",
    "        self.basis=[\"|0>\",\"|1>\"] if observable==ns.Z else [\"|+>\",\"|->\"] #this is just for printing I guess\n",
    "        \n",
    "    def run(self):\n",
    "        if self.qubit is not None:\n",
    "            self.node.ports[\"qubitIO\"].tx_output(self.qubit) #??????\n",
    "        while True:\n",
    "            yield self.await_port_input(self.node.ports[\"qubitIO\"]) #wait until qubit arrives at the port\n",
    "            ###############################\n",
    "            #I don't understand this section.\n",
    "            message=self.node.ports[\"qubitIO\"].rx_input()\n",
    "            qubit=message.items[0]\n",
    "            meas,prob=ns.qubits.measure(qubit,observable=self.observable)\n",
    "            print(f\"{ns.sim_time():5.1f}: {self.node.name} measured \"\n",
    "                  f\"{self.basis[meas]} with probability {prob:.2f}\")\n",
    "            self.node.ports[\"qubitIO\"].tx_output(qubit)\n",
    "            #######################################\n",
    "\n",
    "#assign the protocol to alice and bob's nodes\n",
    "qubits=ns.qubits.create_qubits(1)\n",
    "alice_protocol=alice_bob_protocol(node_alice, observable=ns.Z, qubit=qubits[0])\n",
    "bob_protocol=alice_bob_protocol(node_bob, observable=ns.X)\n",
    "\n",
    "#run the simulation\n",
    "alice_protocol.start()\n",
    "bob_protocol.start()\n",
    "run_stats=ns.sim_run(duration=100)\n",
    "print(run_stats)\n",
    "\n",
    "#you should see Alice measuring |0> or |1> with 50/50 probability and Bob measuring |+> or |-> with 50/50 probability."
   ]
  },
  {
   "cell_type": "code",
   "execution_count": 3,
   "id": "a52d9cf8",
   "metadata": {},
   "outputs": [
    {
     "name": "stdout",
     "output_type": "stream",
     "text": [
      "/home/leo/.local/lib/python3.9/site-packages/netsquid/examples/teleportation.py\n"
     ]
    }
   ],
   "source": [
    "print(\"{}\".format(ns.examples.teleportation.__file__))"
   ]
  },
  {
   "cell_type": "code",
   "execution_count": null,
   "id": "1a904881",
   "metadata": {},
   "outputs": [],
   "source": []
  }
 ],
 "metadata": {
  "kernelspec": {
   "display_name": "Python 3",
   "language": "python",
   "name": "python3"
  },
  "language_info": {
   "codemirror_mode": {
    "name": "ipython",
    "version": 3
   },
   "file_extension": ".py",
   "mimetype": "text/x-python",
   "name": "python",
   "nbconvert_exporter": "python",
   "pygments_lexer": "ipython3",
   "version": "3.9.5"
  }
 },
 "nbformat": 4,
 "nbformat_minor": 5
}
